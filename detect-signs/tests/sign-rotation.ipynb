{
 "cells": [
  {
   "cell_type": "code",
   "execution_count": 2,
   "id": "76bc0c47",
   "metadata": {},
   "outputs": [],
   "source": [
    "import cv2 as cv\n",
    "import matplotlib.pyplot as plt\n",
    "import numpy as np\n",
    "import math\n",
    "import os"
   ]
  },
  {
   "cell_type": "code",
   "execution_count": 6,
   "id": "a699edcb",
   "metadata": {},
   "outputs": [],
   "source": [
    "IMG_DIR = \"./photos\"\n",
    "\n",
    "def show_img(img, name):\n",
    "    rgb_img = cv.cvtColor(img, cv.COLOR_BGR2RGB)\n",
    "    plt.imsave(os.path.join(IMG_DIR, name), rgb_img)"
   ]
  },
  {
   "cell_type": "code",
   "execution_count": 7,
   "id": "49858a5e",
   "metadata": {},
   "outputs": [],
   "source": [
    "sign = cv.imread(\"interzis-bicicletelor.png\")\n",
    "show_img(sign, \"0-template.png\")"
   ]
  },
  {
   "cell_type": "code",
   "execution_count": 8,
   "id": "27ef78da",
   "metadata": {},
   "outputs": [],
   "source": [
    "# computes the positions of the highest, lowest leftest and rightest points\n",
    "def get_black_extremes(mat):\n",
    "    black_mask = np.all(mat == [0, 0, 0], axis=-1)\n",
    "    black_coords = np.column_stack(np.where(black_mask))\n",
    "\n",
    "    y_coords = black_coords[:, 0]\n",
    "    x_coords = black_coords[:, 1]\n",
    "\n",
    "    return(np.min(y_coords), np.max(y_coords), np.min(x_coords), np.max(x_coords))"
   ]
  },
  {
   "cell_type": "code",
   "execution_count": 10,
   "id": "67b43aaa",
   "metadata": {},
   "outputs": [],
   "source": [
    "# spin sign around\n",
    "\n",
    "tops = []\n",
    "bottoms = []\n",
    "lefts = []\n",
    "rights = []\n",
    "\n",
    "(h, w) = sign.shape[:2]  \n",
    "scale = 1.0\n",
    "\n",
    "center = (w // 2, h // 2)\n",
    "for angle in range(360):\n",
    "    M = cv.getRotationMatrix2D(center, angle, scale)\n",
    "    rot_img = sign.copy()\n",
    "    rotated = cv.warpAffine(\n",
    "        rot_img, M, (w, h),\n",
    "        flags=cv.INTER_LINEAR,\n",
    "        borderMode=cv.BORDER_CONSTANT,\n",
    "        borderValue=(255, 255, 255)  # White background\n",
    "    )\n",
    "    top, bottom, left, right = get_black_extremes(rotated)\n",
    "    tops.append(top)\n",
    "    bottoms.append(bottom)\n",
    "    lefts.append(left)\n",
    "    rights.append(right)\n",
    "\n",
    "    if (angle == 83):\n",
    "        show_img(rotated, \"1-rotated.png\")\n"
   ]
  },
  {
   "cell_type": "code",
   "execution_count": 12,
   "id": "c9f779e3",
   "metadata": {},
   "outputs": [
    {
     "data": {
      "image/png": "[encoded data removed]",
      "text/plain": [
       "<Figure size 640x480 with 1 Axes>"
      ]
     },
     "metadata": {},
     "output_type": "display_data"
    }
   ],
   "source": [
    "# visualise how x and y can be used to characterise angle\n",
    "\n",
    "a = [i * j for i, j in zip(lefts, rights)]\n",
    "b = [i * j for i, j in zip(tops, bottoms)]\n",
    "plt.scatter(a, b, s=6)\n",
    "plt.savefig(os.path.join(IMG_DIR, \"2-figure-extremities-relations\"))"
   ]
  },
  {
   "cell_type": "code",
   "execution_count": 13,
   "id": "4bd241f0",
   "metadata": {},
   "outputs": [],
   "source": [
    "# show the common angle \n",
    "# gets 4 vectors containing angles and return the common angle between them\n",
    "def get_common_angle(tops, bottoms, lefts, rights):\n",
    "    for i in bottoms:\n",
    "        if i in tops and i in lefts and i in rights:\n",
    "            return i \n",
    "\n",
    "    return -1 "
   ]
  },
  {
   "cell_type": "code",
   "execution_count": 14,
   "id": "36cc503d",
   "metadata": {},
   "outputs": [
    {
     "name": "stdout",
     "output_type": "stream",
     "text": [
      "( 1   358.3333333333333 ), ( 0   359.3333333333333 ), ( 0   359.6666666666667 ), \n",
      "in medie, cei mai scurti vectori vor fi:\n",
      "top, bottom, left, right\n",
      "17451 17451 17464 17463\n",
      "biggest right vector: 55\n",
      "smallest right vector: 1\n"
     ]
    }
   ],
   "source": [
    "# testing for every angle: spin the image and try to predict the rotation using previously learned positions of \n",
    "# highest, lowest, leftest and rightest black point in the image\n",
    "\n",
    "(h, w) = sign.shape[:2]  \n",
    "scale = 1.0\n",
    "center = (w // 2, h // 2)\n",
    "\n",
    "top_lens = 0\n",
    "bottom_lens = 0\n",
    "left_lens = 0\n",
    "right_lens = 0\n",
    "max_right_len = 0\n",
    "min_right_len = 122\n",
    " \n",
    "for angle in range(360 * 3):\n",
    "    # angle = 112\n",
    "    angle = angle / 3\n",
    "\n",
    "    M = cv.getRotationMatrix2D(center, angle, scale)\n",
    "    rot_img = sign.copy()\n",
    "\n",
    "    test_img = cv.warpAffine(\n",
    "        rot_img, M, (w, h),\n",
    "        flags=cv.INTER_LINEAR,\n",
    "        borderMode=cv.BORDER_CONSTANT,\n",
    "        borderValue=(255, 255, 255)  # White background\n",
    "    )\n",
    "\n",
    "    top, bottom, left, right = get_black_extremes(test_img)\n",
    "\n",
    "    eps = 1\n",
    "    cl_top = [int(idx) for i, idx in zip(tops, np.linspace(0, len(tops) - 1, len(tops))) if abs(i-top) < eps]\n",
    "    cl_bottom = [int(idx) for i, idx in zip(bottoms, np.linspace(0, len(bottoms) - 1, len(bottoms))) if abs(i-bottom) < eps]\n",
    "    cl_left = [int(idx) for i, idx in zip(lefts, np.linspace(0, len(lefts) - 1, len(lefts))) if abs(i-left) < eps]\n",
    "    cl_right = [int(idx) for i, idx in zip(rights, np.linspace(0, len(rights) - 1, len(rights))) if abs(i-right) < eps]\n",
    "\n",
    "\n",
    "    computed_angle = get_common_angle(cl_top, cl_bottom, cl_left, cl_right)\n",
    "    while computed_angle == -1:\n",
    "        computed_angle = get_common_angle(cl_top, cl_bottom, cl_left, cl_right)\n",
    "        eps += 1\n",
    "\n",
    "        cl_top = [int(idx) for i, idx in zip(tops, np.linspace(0, len(tops) - 1, len(tops))) if abs(i-top) < eps]\n",
    "        cl_bottom = [int(idx) for i, idx in zip(bottoms, np.linspace(0, len(bottoms) - 1, len(bottoms))) if abs(i-bottom) < eps]\n",
    "        cl_left = [int(idx) for i, idx in zip(lefts, np.linspace(0, len(lefts) - 1, len(lefts))) if abs(i-left) < eps]\n",
    "        cl_right = [int(idx) for i, idx in zip(rights, np.linspace(0, len(rights) - 1, len(rights))) if abs(i-right) < eps]\n",
    "\n",
    "    top_lens += len(cl_top)\n",
    "    bottom_lens += len(cl_bottom)\n",
    "    left_lens += len(cl_left)\n",
    "    right_lens += len(cl_right)\n",
    "    if(len(cl_right) > max_right_len):\n",
    "        max_right_len = len(cl_right)\n",
    "\n",
    "    if(len(cl_right) < min_right_len):\n",
    "        min_right_len = len(cl_right)\n",
    "\n",
    "    # print(cl_top)\n",
    "    # print(cl_bottom)\n",
    "    # print(cl_left)\n",
    "    # print(cl_right)\n",
    "    angle_eps = 1\n",
    "    if computed_angle < round(angle) - eps or computed_angle > round(angle) + eps:\n",
    "        print(\"(\", computed_angle, \" \", angle, \")\", end=\", \")\n",
    "\n",
    "\n",
    "print()\n",
    "print(\"in medie, cei mai scurti vectori vor fi:\")\n",
    "print(\"top, bottom, left, right\")\n",
    "print(top_lens, bottom_lens, left_lens, right_lens)\n",
    "print(\"biggest right vector:\", max_right_len)\n",
    "print(\"smallest right vector:\", min_right_len)"
   ]
  },
  {
   "cell_type": "code",
   "execution_count": 9,
   "id": "8965be9e",
   "metadata": {},
   "outputs": [],
   "source": [
    "# different method, where i just get the leftest and rightest point and get the angle between them "
   ]
  },
  {
   "cell_type": "code",
   "execution_count": 16,
   "id": "23f0a756",
   "metadata": {},
   "outputs": [],
   "source": [
    "def spin_img(img, angle):\n",
    "    (h, w) = sign.shape[:2]  \n",
    "    scale = 1.0\n",
    "    center = (w // 2, h // 2)\n",
    "\n",
    "    M = cv.getRotationMatrix2D(center, angle, scale)\n",
    "    rot_img = img.copy()\n",
    "\n",
    "    rot_img = cv.warpAffine(\n",
    "        rot_img, M, (w, h),\n",
    "        flags=cv.INTER_LINEAR,\n",
    "        borderMode=cv.BORDER_CONSTANT,\n",
    "        borderValue=(0, 255, 0)  # White background\n",
    "    )\n",
    "\n",
    "    return rot_img\n",
    "\n",
    "show_img(spin_img(sign, -40), \"3-40-deg-rotated-template.png\")\n"
   ]
  },
  {
   "cell_type": "code",
   "execution_count": 17,
   "id": "66d5af75",
   "metadata": {},
   "outputs": [],
   "source": [
    "import numpy as np\n",
    "import math\n",
    "\n",
    "def get_black_angle(img):\n",
    "    # Create a mask where pixels are black (all RGB channels == 0)\n",
    "    black_mask = np.all(img == 0, axis=2)\n",
    "    y_coords, x_coords = np.where(black_mask)\n",
    "\n",
    "    left_idx = np.argmin(x_coords)\n",
    "    right_idx = np.argmax(x_coords)\n",
    "\n",
    "    leftest = (x_coords[left_idx], y_coords[left_idx])\n",
    "    rightest = (x_coords[right_idx], y_coords[right_idx])\n",
    "\n",
    "    dy = rightest[1] - leftest[1]\n",
    "    dx = rightest[0] - leftest[0]\n",
    "\n",
    "    angle_rad = math.atan2(dy, dx)\n",
    "    angle_deg = math.degrees(angle_rad)\n",
    "    return angle_deg\n"
   ]
  },
  {
   "cell_type": "code",
   "execution_count": 18,
   "id": "d341de82",
   "metadata": {},
   "outputs": [],
   "source": [
    "angles = []\n",
    "slopes = []\n",
    "for angle in range(-40, 40):\n",
    "    angles.append(angle)\n",
    "    rot = spin_img(sign, angle)\n",
    "    angle_deg = get_black_angle(rot)\n",
    "    slopes.append(angle_deg)\n"
   ]
  },
  {
   "cell_type": "code",
   "execution_count": 24,
   "id": "6e37f55f",
   "metadata": {},
   "outputs": [
    {
     "name": "stdout",
     "output_type": "stream",
     "text": [
      "-44.99298158823909\n",
      "44.81849267298442\n"
     ]
    }
   ],
   "source": [
    "plt.scatter(slopes, angles, s=8)\n",
    "\n",
    "m, b = np.polyfit(slopes, angles, deg=1)\n",
    "\n",
    "x = np.linspace(-30, 30, 100)  # choose a suitable range for your data\n",
    "y = m * x + b\n",
    "plt.plot(x, y, label=f'y = {m:.2f}x + {b:.2f}', color='red')\n",
    "print(m * 30 + b)\n",
    "print(m * -30 + b)\n",
    "\n",
    "plt.savefig(os.path.join(IMG_DIR, \"4-rotation-and-slope-relationship.png\"))\n",
    "plt.close()"
   ]
  },
  {
   "cell_type": "code",
   "execution_count": 27,
   "id": "3e35521d",
   "metadata": {},
   "outputs": [
    {
     "name": "stdout",
     "output_type": "stream",
     "text": [
      "31.75\n",
      "31.76\n",
      "31.77\n",
      "31.78\n",
      "31.79\n",
      "31.8\n",
      "31.81\n",
      "31.82\n",
      "31.83\n",
      "31.84\n",
      "31.85\n",
      "min, max, avg:\n",
      "0.00019617820701967048 4.421972259020741 1.129445484405118\n"
     ]
    }
   ],
   "source": [
    "def remap_slope_to_angle(s, s_min=30, s_max=-30, theta_min=-45, theta_max=45):\n",
    "    return (s - s_min) / (s_max - s_min) * (theta_max - theta_min) + theta_min\n",
    "\n",
    "avg_err = 0\n",
    "total_tries = 0\n",
    "min_err = np.inf\n",
    "max_err = 0\n",
    "err_vec = []\n",
    "\n",
    "gran = 100\n",
    "angles = []\n",
    "new_angles = []\n",
    "for angle in range(-40*gran, 40*gran):\n",
    "    angle = angle / gran\n",
    "    angles.append(angle)\n",
    "\n",
    "    img_sp = spin_img(sign, angle)\n",
    "    new_angle = remap_slope_to_angle(get_black_angle(img_sp))\n",
    "    new_angles.append(new_angle)\n",
    "\n",
    "    err = np.abs(new_angle - angle)\n",
    "    avg_err += err\n",
    "    total_tries += 1\n",
    "    min_err = err if err < min_err else min_err\n",
    "    max_err = err if err > max_err else max_err\n",
    "    err_vec.append(err)\n",
    "\n",
    "    if err > 4.3:\n",
    "        print(angle)\n",
    "\n",
    "avg_err = avg_err/total_tries\n",
    "print(\"min, max, avg:\")\n",
    "print(min_err, max_err, avg_err)"
   ]
  },
  {
   "cell_type": "code",
   "execution_count": null,
   "id": "b574e28f",
   "metadata": {},
   "outputs": [],
   "source": [
    "plt.scatter(angles, new_angles, s=0.3)\n",
    "plt.savefig(os.path.join(IMG_DIR, \"5-multiple-rotations-slope-and-angle-relationship.png\"))\n",
    "plt.close()"
   ]
  },
  {
   "cell_type": "code",
   "execution_count": 30,
   "id": "ab8c402b",
   "metadata": {},
   "outputs": [],
   "source": [
    "err_vec.sort()\n",
    "\n",
    "bins = np.arange(0, 4.5, 0.2)\n",
    "plt.hist(err_vec, bins=bins, edgecolor='black')\n",
    "\n",
    "plt.xlabel(\"Error Value\")\n",
    "plt.ylabel(\"Count\")\n",
    "plt.title(\"Error Distribution\")\n",
    "plt.grid(True)\n",
    "\n",
    "plt.savefig(os.path.join(IMG_DIR, \"6-error-distribution.png\"))\n",
    "plt.close()"
   ]
  },
  {
   "cell_type": "code",
   "execution_count": 31,
   "id": "969e48c5",
   "metadata": {},
   "outputs": [],
   "source": [
    "def match_template(template, img, method=cv.TM_CCOEFF_NORMED):\n",
    "    result = cv.matchTemplate(img, template, method)\n",
    "    match_score = result[0][0]  # Only one value because template == image size\n",
    "    return match_score\n",
    "\n",
    "def match_black_pixels_only(template, img):\n",
    "    # Convert to grayscale if needed\n",
    "    if template.ndim == 3:\n",
    "        template = cv.cvtColor(template, cv.COLOR_BGR2GRAY)\n",
    "    if img.ndim == 3:\n",
    "        img = cv.cvtColor(img, cv.COLOR_BGR2GRAY)\n",
    "\n",
    "    # Define black pixel mask (0 is pure black)\n",
    "    template_black = (template == 0)\n",
    "\n",
    "    # Check which corresponding pixels in `img` are also black\n",
    "    matching_black = (img == 0) & template_black\n",
    "\n",
    "    # Count matching and total relevant pixels\n",
    "    total_black_pixels = np.count_nonzero(template_black)\n",
    "    matched_pixels = np.count_nonzero(matching_black)\n",
    "\n",
    "    if total_black_pixels == 0:\n",
    "        return 0.0  # avoid division by zero\n",
    "\n",
    "    # Return match ratio\n",
    "    return matched_pixels / total_black_pixels\n",
    "\n"
   ]
  },
  {
   "cell_type": "code",
   "execution_count": 32,
   "id": "3edd0d24",
   "metadata": {},
   "outputs": [
    {
     "name": "stdout",
     "output_type": "stream",
     "text": [
      "match between rotated and normal: 0.6961337298738591\n"
     ]
    }
   ],
   "source": [
    "rotated = spin_img(sign, 30)\n",
    "fixed = spin_img(rotated, -remap_slope_to_angle(get_black_angle(rotated)))\n",
    "print(\"match between rotated and normal:\", match_black_pixels_only(sign, fixed))\n"
   ]
  }
 ],
 "metadata": {
  "kernelspec": {
   "display_name": "no-bikes-venv",
   "language": "python",
   "name": "python3"
  },
  "language_info": {
   "codemirror_mode": {
    "name": "ipython",
    "version": 3
   },
   "file_extension": ".py",
   "mimetype": "text/x-python",
   "name": "python",
   "nbconvert_exporter": "python",
   "pygments_lexer": "ipython3",
   "version": "3.10.12"
  }
 },
 "nbformat": 4,
 "nbformat_minor": 5
}
