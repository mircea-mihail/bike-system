{
 "cells": [
  {
   "cell_type": "code",
   "execution_count": 1,
   "id": "90b57100",
   "metadata": {},
   "outputs": [],
   "source": [
    "import torch\n",
    "import cv2 as cv\n",
    "import os\n",
    "import pandas as pd\n",
    "import shutil\n",
    "from PIL import Image"
   ]
  },
  {
   "cell_type": "code",
   "execution_count": 2,
   "id": "c1370839",
   "metadata": {},
   "outputs": [],
   "source": [
    "\n",
    "def model_eg():\n",
    "    # Load a YOLOv5 model (options: yolov5n, yolov5s, yolov5m, yolov5l, yolov5x)\n",
    "    model = torch.hub.load(\"ultralytics/yolov5\", \"yolov5n\")  # Default: yolov5s\n",
    "\n",
    "    # Define the input image source (URL, local file, PIL image, OpenCV frame, numpy array, or list)\n",
    "    img = cv.imread(\"test_images/clear-gw.jpg\", cv.IMREAD_COLOR)  # Example image\n",
    "    img = cv.cvtColor(img, cv.COLOR_BGR2RGB)\n",
    "\n",
    "    # Perform inference (handles batching, resizing, normalization automatically)\n",
    "    results = model(img)\n",
    "\n",
    "    # Process the results (options: .print(), .show(), .save(), .crop(), .pandas())\n",
    "    results.print()  # Print results to console\n",
    "    # results.show()  # Display results in a window\n",
    "    results.save()  # Save results to runs/detect/exp"
   ]
  },
  {
   "cell_type": "markdown",
   "id": "a44c6647",
   "metadata": {},
   "source": [
    "## Getting the dataset ready"
   ]
  },
  {
   "cell_type": "code",
   "execution_count": 3,
   "id": "b8f04375",
   "metadata": {},
   "outputs": [],
   "source": [
    "GTSRB_path = \"./GTSRB/\"\n",
    "\n",
    "train_img_path = \"./dataset/images/train\"\n",
    "val_img_path = \"dataset/images/val\"\n",
    "train_lbl_path = \"./dataset/labels/train\"\n",
    "val_lbl_path = \"dataset/labels/val\""
   ]
  },
  {
   "cell_type": "code",
   "execution_count": null,
   "id": "c7586af4",
   "metadata": {},
   "outputs": [
    {
     "name": "stdout",
     "output_type": "stream",
     "text": [
      "deleting from: ./dataset/images/train\n",
      "deleting from: dataset/images/val\n",
      "deleting from: ./dataset/labels/train\n",
      "deleting from: dataset/labels/val\n"
     ]
    }
   ],
   "source": [
    "def delete_dataset():\n",
    "    folders = [train_img_path, val_img_path, train_lbl_path, val_lbl_path]\n",
    "    for folder in folders:\n",
    "        print(\"deleting from:\", folder)\n",
    "        for filename in os.listdir(folder):\n",
    "            file_path = os.path.join(folder, filename)\n",
    "            if os.path.isfile(file_path):\n",
    "                os.remove(file_path)\n",
    "\n",
    "# delete_dataset()"
   ]
  },
  {
   "cell_type": "code",
   "execution_count": null,
   "id": "10c042b4",
   "metadata": {},
   "outputs": [],
   "source": [
    "\n",
    "train_val_split = 0.8\n",
    "\n",
    "\n",
    "def convert_GTSRB_to_YOLO(dir, class_id):\n",
    "    path = os.path.join(GTSRB_path, dir)\n",
    "    csv_file_name = [file for file in os.listdir(path) if file.endswith(\".csv\")][0]\n",
    "    csv_file_name = os.path.join(path, csv_file_name)\n",
    "\n",
    "    df = pd.read_csv(csv_file_name, sep=\";\")\n",
    "    # shuffle df\n",
    "    df = df.sample(frac=1).reset_index(drop=True)\n",
    "\n",
    "    # Filename    Width       Height     Roi.X1    Roi.Y1   Roi.X2  Roi.Y2 ClassId\n",
    "    for index, row in df.iterrows():\n",
    "        # copy img\n",
    "        img_path = train_img_path\n",
    "        lbl_path = train_lbl_path\n",
    "        if index / len(df) > train_val_split:\n",
    "            img_path = val_img_path\n",
    "            lbl_path = val_lbl_path\n",
    "\n",
    "        src_img_filename = row[\"Filename\"]\n",
    "        dst_img_filename = str(class_id) + \"_\" + src_img_filename\n",
    "        dst_img_filename = dst_img_filename.replace('.ppm', '.png')\n",
    "\n",
    "        img_src_path = os.path.join(path, src_img_filename)\n",
    "        img_dst_path = os.path.join(img_path, dst_img_filename)\n",
    "\n",
    "        img = Image.open(img_src_path)\n",
    "        img.save(img_dst_path, \"PNG\")\n",
    "\n",
    "        img_width = row[\"Width\"]\n",
    "        img_height = row[\"Height\"]\n",
    "        x1 = row[\"Roi.X1\"]\n",
    "        y1 = row[\"Roi.Y1\"]\n",
    "        x2 = row[\"Roi.X2\"]\n",
    "        y2 = row[\"Roi.Y2\"]\n",
    "\n",
    "        # convert to yolo\n",
    "        x_center = ((x1 + x2) / 2) / img_width\n",
    "        y_center = ((y1 + y2) / 2) / img_height\n",
    "        bbox_width = (x2 - x1) / img_width\n",
    "        bbox_height = (y2 - y1) / img_height\n",
    "\n",
    "        label_filename = dst_img_filename.replace('.png', '.txt')\n",
    "        label_path = os.path.join(lbl_path, label_filename)\n",
    "        with open(label_path, 'w') as f:\n",
    "            f.write(f\"{class_id} {x_center:.6f} {y_center:.6f} {bbox_width:.6f} {bbox_height:.6f}\\n\")\n",
    "\n",
    "# convert_GTSRB_to_YOLO(\"00013-give-way\", 0)\n",
    "# convert_GTSRB_to_YOLO(\"00014-stop\", 1)\n",
    "# convert_GTSRB_to_YOLO(\"00017-no-entry\", 2)\n",
    "# convert_GTSRB_to_YOLO(\"00018-warning\", 3)"
   ]
  },
  {
   "cell_type": "code",
   "execution_count": null,
   "id": "78ad86f1",
   "metadata": {},
   "outputs": [],
   "source": []
  }
 ],
 "metadata": {
  "kernelspec": {
   "display_name": "Python 3",
   "language": "python",
   "name": "python3"
  },
  "language_info": {
   "codemirror_mode": {
    "name": "ipython",
    "version": 3
   },
   "file_extension": ".py",
   "mimetype": "text/x-python",
   "name": "python",
   "nbconvert_exporter": "python",
   "pygments_lexer": "ipython3",
   "version": "3.10.12"
  }
 },
 "nbformat": 4,
 "nbformat_minor": 5
}
